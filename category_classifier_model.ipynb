{
  "nbformat": 4,
  "nbformat_minor": 0,
  "metadata": {
    "colab": {
      "name": "category_classifier_model.ipynb",
      "provenance": [],
      "authorship_tag": "ABX9TyN/pGX1t07ryuKOqtcQHEI7",
      "include_colab_link": true
    },
    "kernelspec": {
      "name": "python3",
      "display_name": "Python 3"
    },
    "language_info": {
      "name": "python"
    }
  },
  "cells": [
    {
      "cell_type": "markdown",
      "metadata": {
        "id": "view-in-github",
        "colab_type": "text"
      },
      "source": [
        "<a href=\"https://colab.research.google.com/github/kovus380/testtest/blob/master/category_classifier_model.ipynb\" target=\"_parent\"><img src=\"https://colab.research.google.com/assets/colab-badge.svg\" alt=\"Open In Colab\"/></a>"
      ]
    },
    {
      "cell_type": "code",
      "metadata": {
        "colab": {
          "base_uri": "https://localhost:8080/"
        },
        "id": "TU-jJQGaUIie",
        "outputId": "05963d4b-9e0b-46d3-d146-950daa0baa6e"
      },
      "source": [
        "!apt-get update\n",
        "!apt-get install g++ openjdk-8-jdk \n",
        "!pip install konlpy"
      ],
      "execution_count": 1,
      "outputs": [
        {
          "output_type": "stream",
          "name": "stdout",
          "text": [
            "\r0% [Working]\r            \rGet:1 http://security.ubuntu.com/ubuntu bionic-security InRelease [88.7 kB]\n",
            "\r0% [Connecting to archive.ubuntu.com (91.189.88.142)] [1 InRelease 8,192 B/88.7\r0% [Connecting to archive.ubuntu.com (91.189.88.142)] [Connected to cloud.r-pro\r0% [1 InRelease gpgv 88.7 kB] [Connecting to archive.ubuntu.com (91.189.88.142)\r                                                                               \rGet:2 https://cloud.r-project.org/bin/linux/ubuntu bionic-cran40/ InRelease [3,626 B]\n",
            "\r0% [1 InRelease gpgv 88.7 kB] [Connecting to archive.ubuntu.com (91.189.88.142)\r                                                                               \rIgn:3 https://developer.download.nvidia.com/compute/cuda/repos/ubuntu1804/x86_64  InRelease\n",
            "Hit:4 http://ppa.launchpad.net/c2d4u.team/c2d4u4.0+/ubuntu bionic InRelease\n",
            "Hit:5 http://archive.ubuntu.com/ubuntu bionic InRelease\n",
            "Ign:6 https://developer.download.nvidia.com/compute/machine-learning/repos/ubuntu1804/x86_64  InRelease\n",
            "Get:7 http://archive.ubuntu.com/ubuntu bionic-updates InRelease [88.7 kB]\n",
            "Hit:8 https://developer.download.nvidia.com/compute/cuda/repos/ubuntu1804/x86_64  Release\n",
            "Hit:9 https://developer.download.nvidia.com/compute/machine-learning/repos/ubuntu1804/x86_64  Release\n",
            "Hit:10 http://ppa.launchpad.net/cran/libgit2/ubuntu bionic InRelease\n",
            "Get:11 http://security.ubuntu.com/ubuntu bionic-security/universe amd64 Packages [1,431 kB]\n",
            "Hit:12 http://ppa.launchpad.net/deadsnakes/ppa/ubuntu bionic InRelease\n",
            "Get:13 http://archive.ubuntu.com/ubuntu bionic-backports InRelease [74.6 kB]\n",
            "Hit:14 http://ppa.launchpad.net/graphics-drivers/ppa/ubuntu bionic InRelease\n",
            "Get:17 http://archive.ubuntu.com/ubuntu bionic-updates/universe amd64 Packages [2,210 kB]\n",
            "Get:18 http://archive.ubuntu.com/ubuntu bionic-updates/main amd64 Packages [2,801 kB]\n",
            "Fetched 6,698 kB in 4s (1,885 kB/s)\n",
            "Reading package lists... Done\n",
            "Reading package lists... Done\n",
            "Building dependency tree       \n",
            "Reading state information... Done\n",
            "g++ is already the newest version (4:7.4.0-1ubuntu2.3).\n",
            "g++ set to manually installed.\n",
            "The following additional packages will be installed:\n",
            "  fonts-dejavu-core fonts-dejavu-extra libatk-wrapper-java\n",
            "  libatk-wrapper-java-jni libgail-common libgail18 libgtk2.0-0 libgtk2.0-bin\n",
            "  libgtk2.0-common libxxf86dga1 openjdk-8-jdk-headless openjdk-8-jre\n",
            "  openjdk-8-jre-headless x11-utils\n",
            "Suggested packages:\n",
            "  gvfs openjdk-8-demo openjdk-8-source visualvm icedtea-8-plugin libnss-mdns\n",
            "  fonts-ipafont-gothic fonts-ipafont-mincho fonts-wqy-microhei\n",
            "  fonts-wqy-zenhei fonts-indic mesa-utils\n",
            "The following NEW packages will be installed:\n",
            "  fonts-dejavu-core fonts-dejavu-extra libatk-wrapper-java\n",
            "  libatk-wrapper-java-jni libgail-common libgail18 libgtk2.0-0 libgtk2.0-bin\n",
            "  libgtk2.0-common libxxf86dga1 openjdk-8-jdk openjdk-8-jdk-headless\n",
            "  openjdk-8-jre openjdk-8-jre-headless x11-utils\n",
            "0 upgraded, 15 newly installed, 0 to remove and 37 not upgraded.\n",
            "Need to get 43.5 MB of archives.\n",
            "After this operation, 163 MB of additional disk space will be used.\n",
            "Get:1 http://archive.ubuntu.com/ubuntu bionic/main amd64 libxxf86dga1 amd64 2:1.1.4-1 [13.7 kB]\n",
            "Get:2 http://archive.ubuntu.com/ubuntu bionic/main amd64 fonts-dejavu-core all 2.37-1 [1,041 kB]\n",
            "Get:3 http://archive.ubuntu.com/ubuntu bionic/main amd64 fonts-dejavu-extra all 2.37-1 [1,953 kB]\n",
            "Get:4 http://archive.ubuntu.com/ubuntu bionic/main amd64 x11-utils amd64 7.7+3build1 [196 kB]\n",
            "Get:5 http://archive.ubuntu.com/ubuntu bionic/main amd64 libatk-wrapper-java all 0.33.3-20ubuntu0.1 [34.7 kB]\n",
            "Get:6 http://archive.ubuntu.com/ubuntu bionic/main amd64 libatk-wrapper-java-jni amd64 0.33.3-20ubuntu0.1 [28.3 kB]\n",
            "Get:7 http://archive.ubuntu.com/ubuntu bionic/main amd64 libgtk2.0-common all 2.24.32-1ubuntu1 [125 kB]\n",
            "Get:8 http://archive.ubuntu.com/ubuntu bionic/main amd64 libgtk2.0-0 amd64 2.24.32-1ubuntu1 [1,769 kB]\n",
            "Get:9 http://archive.ubuntu.com/ubuntu bionic/main amd64 libgail18 amd64 2.24.32-1ubuntu1 [14.2 kB]\n",
            "Get:10 http://archive.ubuntu.com/ubuntu bionic/main amd64 libgail-common amd64 2.24.32-1ubuntu1 [112 kB]\n",
            "Get:11 http://archive.ubuntu.com/ubuntu bionic/main amd64 libgtk2.0-bin amd64 2.24.32-1ubuntu1 [7,536 B]\n",
            "Get:12 http://archive.ubuntu.com/ubuntu bionic-updates/universe amd64 openjdk-8-jre-headless amd64 8u292-b10-0ubuntu1~18.04 [28.2 MB]\n",
            "Get:13 http://archive.ubuntu.com/ubuntu bionic-updates/universe amd64 openjdk-8-jre amd64 8u292-b10-0ubuntu1~18.04 [69.6 kB]\n",
            "Get:14 http://archive.ubuntu.com/ubuntu bionic-updates/universe amd64 openjdk-8-jdk-headless amd64 8u292-b10-0ubuntu1~18.04 [8,284 kB]\n",
            "Get:15 http://archive.ubuntu.com/ubuntu bionic-updates/universe amd64 openjdk-8-jdk amd64 8u292-b10-0ubuntu1~18.04 [1,644 kB]\n",
            "Fetched 43.5 MB in 2s (23.4 MB/s)\n",
            "Selecting previously unselected package libxxf86dga1:amd64.\n",
            "(Reading database ... 155047 files and directories currently installed.)\n",
            "Preparing to unpack .../00-libxxf86dga1_2%3a1.1.4-1_amd64.deb ...\n",
            "Unpacking libxxf86dga1:amd64 (2:1.1.4-1) ...\n",
            "Selecting previously unselected package fonts-dejavu-core.\n",
            "Preparing to unpack .../01-fonts-dejavu-core_2.37-1_all.deb ...\n",
            "Unpacking fonts-dejavu-core (2.37-1) ...\n",
            "Selecting previously unselected package fonts-dejavu-extra.\n",
            "Preparing to unpack .../02-fonts-dejavu-extra_2.37-1_all.deb ...\n",
            "Unpacking fonts-dejavu-extra (2.37-1) ...\n",
            "Selecting previously unselected package x11-utils.\n",
            "Preparing to unpack .../03-x11-utils_7.7+3build1_amd64.deb ...\n",
            "Unpacking x11-utils (7.7+3build1) ...\n",
            "Selecting previously unselected package libatk-wrapper-java.\n",
            "Preparing to unpack .../04-libatk-wrapper-java_0.33.3-20ubuntu0.1_all.deb ...\n",
            "Unpacking libatk-wrapper-java (0.33.3-20ubuntu0.1) ...\n",
            "Selecting previously unselected package libatk-wrapper-java-jni:amd64.\n",
            "Preparing to unpack .../05-libatk-wrapper-java-jni_0.33.3-20ubuntu0.1_amd64.deb ...\n",
            "Unpacking libatk-wrapper-java-jni:amd64 (0.33.3-20ubuntu0.1) ...\n",
            "Selecting previously unselected package libgtk2.0-common.\n",
            "Preparing to unpack .../06-libgtk2.0-common_2.24.32-1ubuntu1_all.deb ...\n",
            "Unpacking libgtk2.0-common (2.24.32-1ubuntu1) ...\n",
            "Selecting previously unselected package libgtk2.0-0:amd64.\n",
            "Preparing to unpack .../07-libgtk2.0-0_2.24.32-1ubuntu1_amd64.deb ...\n",
            "Unpacking libgtk2.0-0:amd64 (2.24.32-1ubuntu1) ...\n",
            "Selecting previously unselected package libgail18:amd64.\n",
            "Preparing to unpack .../08-libgail18_2.24.32-1ubuntu1_amd64.deb ...\n",
            "Unpacking libgail18:amd64 (2.24.32-1ubuntu1) ...\n",
            "Selecting previously unselected package libgail-common:amd64.\n",
            "Preparing to unpack .../09-libgail-common_2.24.32-1ubuntu1_amd64.deb ...\n",
            "Unpacking libgail-common:amd64 (2.24.32-1ubuntu1) ...\n",
            "Selecting previously unselected package libgtk2.0-bin.\n",
            "Preparing to unpack .../10-libgtk2.0-bin_2.24.32-1ubuntu1_amd64.deb ...\n",
            "Unpacking libgtk2.0-bin (2.24.32-1ubuntu1) ...\n",
            "Selecting previously unselected package openjdk-8-jre-headless:amd64.\n",
            "Preparing to unpack .../11-openjdk-8-jre-headless_8u292-b10-0ubuntu1~18.04_amd64.deb ...\n",
            "Unpacking openjdk-8-jre-headless:amd64 (8u292-b10-0ubuntu1~18.04) ...\n",
            "Selecting previously unselected package openjdk-8-jre:amd64.\n",
            "Preparing to unpack .../12-openjdk-8-jre_8u292-b10-0ubuntu1~18.04_amd64.deb ...\n",
            "Unpacking openjdk-8-jre:amd64 (8u292-b10-0ubuntu1~18.04) ...\n",
            "Selecting previously unselected package openjdk-8-jdk-headless:amd64.\n",
            "Preparing to unpack .../13-openjdk-8-jdk-headless_8u292-b10-0ubuntu1~18.04_amd64.deb ...\n",
            "Unpacking openjdk-8-jdk-headless:amd64 (8u292-b10-0ubuntu1~18.04) ...\n",
            "Selecting previously unselected package openjdk-8-jdk:amd64.\n",
            "Preparing to unpack .../14-openjdk-8-jdk_8u292-b10-0ubuntu1~18.04_amd64.deb ...\n",
            "Unpacking openjdk-8-jdk:amd64 (8u292-b10-0ubuntu1~18.04) ...\n",
            "Setting up libgtk2.0-common (2.24.32-1ubuntu1) ...\n",
            "Setting up fonts-dejavu-core (2.37-1) ...\n",
            "Setting up libxxf86dga1:amd64 (2:1.1.4-1) ...\n",
            "Setting up fonts-dejavu-extra (2.37-1) ...\n",
            "Setting up openjdk-8-jre-headless:amd64 (8u292-b10-0ubuntu1~18.04) ...\n",
            "update-alternatives: using /usr/lib/jvm/java-8-openjdk-amd64/jre/bin/orbd to provide /usr/bin/orbd (orbd) in auto mode\n",
            "update-alternatives: using /usr/lib/jvm/java-8-openjdk-amd64/jre/bin/servertool to provide /usr/bin/servertool (servertool) in auto mode\n",
            "update-alternatives: using /usr/lib/jvm/java-8-openjdk-amd64/jre/bin/tnameserv to provide /usr/bin/tnameserv (tnameserv) in auto mode\n",
            "Setting up libgtk2.0-0:amd64 (2.24.32-1ubuntu1) ...\n",
            "Setting up libgail18:amd64 (2.24.32-1ubuntu1) ...\n",
            "Setting up openjdk-8-jdk-headless:amd64 (8u292-b10-0ubuntu1~18.04) ...\n",
            "update-alternatives: using /usr/lib/jvm/java-8-openjdk-amd64/bin/idlj to provide /usr/bin/idlj (idlj) in auto mode\n",
            "update-alternatives: using /usr/lib/jvm/java-8-openjdk-amd64/bin/wsimport to provide /usr/bin/wsimport (wsimport) in auto mode\n",
            "update-alternatives: using /usr/lib/jvm/java-8-openjdk-amd64/bin/jsadebugd to provide /usr/bin/jsadebugd (jsadebugd) in auto mode\n",
            "update-alternatives: using /usr/lib/jvm/java-8-openjdk-amd64/bin/native2ascii to provide /usr/bin/native2ascii (native2ascii) in auto mode\n",
            "update-alternatives: using /usr/lib/jvm/java-8-openjdk-amd64/bin/javah to provide /usr/bin/javah (javah) in auto mode\n",
            "update-alternatives: using /usr/lib/jvm/java-8-openjdk-amd64/bin/hsdb to provide /usr/bin/hsdb (hsdb) in auto mode\n",
            "update-alternatives: using /usr/lib/jvm/java-8-openjdk-amd64/bin/clhsdb to provide /usr/bin/clhsdb (clhsdb) in auto mode\n",
            "update-alternatives: using /usr/lib/jvm/java-8-openjdk-amd64/bin/extcheck to provide /usr/bin/extcheck (extcheck) in auto mode\n",
            "update-alternatives: using /usr/lib/jvm/java-8-openjdk-amd64/bin/schemagen to provide /usr/bin/schemagen (schemagen) in auto mode\n",
            "update-alternatives: using /usr/lib/jvm/java-8-openjdk-amd64/bin/xjc to provide /usr/bin/xjc (xjc) in auto mode\n",
            "update-alternatives: using /usr/lib/jvm/java-8-openjdk-amd64/bin/jhat to provide /usr/bin/jhat (jhat) in auto mode\n",
            "update-alternatives: using /usr/lib/jvm/java-8-openjdk-amd64/bin/wsgen to provide /usr/bin/wsgen (wsgen) in auto mode\n",
            "Setting up x11-utils (7.7+3build1) ...\n",
            "Setting up libgail-common:amd64 (2.24.32-1ubuntu1) ...\n",
            "Setting up libatk-wrapper-java (0.33.3-20ubuntu0.1) ...\n",
            "Setting up libgtk2.0-bin (2.24.32-1ubuntu1) ...\n",
            "Setting up libatk-wrapper-java-jni:amd64 (0.33.3-20ubuntu0.1) ...\n",
            "Setting up openjdk-8-jre:amd64 (8u292-b10-0ubuntu1~18.04) ...\n",
            "update-alternatives: using /usr/lib/jvm/java-8-openjdk-amd64/jre/bin/policytool to provide /usr/bin/policytool (policytool) in auto mode\n",
            "Setting up openjdk-8-jdk:amd64 (8u292-b10-0ubuntu1~18.04) ...\n",
            "update-alternatives: using /usr/lib/jvm/java-8-openjdk-amd64/bin/appletviewer to provide /usr/bin/appletviewer (appletviewer) in auto mode\n",
            "update-alternatives: using /usr/lib/jvm/java-8-openjdk-amd64/bin/jconsole to provide /usr/bin/jconsole (jconsole) in auto mode\n",
            "Processing triggers for man-db (2.8.3-2ubuntu0.1) ...\n",
            "Processing triggers for hicolor-icon-theme (0.17-2) ...\n",
            "Processing triggers for fontconfig (2.12.6-0ubuntu2) ...\n",
            "Processing triggers for mime-support (3.60ubuntu1) ...\n",
            "Processing triggers for libc-bin (2.27-3ubuntu1.3) ...\n",
            "/sbin/ldconfig.real: /usr/local/lib/python3.7/dist-packages/ideep4py/lib/libmkldnn.so.0 is not a symbolic link\n",
            "\n",
            "Collecting konlpy\n",
            "  Downloading konlpy-0.5.2-py2.py3-none-any.whl (19.4 MB)\n",
            "\u001b[K     |████████████████████████████████| 19.4 MB 1.5 MB/s \n",
            "\u001b[?25hCollecting colorama\n",
            "  Downloading colorama-0.4.4-py2.py3-none-any.whl (16 kB)\n",
            "Requirement already satisfied: lxml>=4.1.0 in /usr/local/lib/python3.7/dist-packages (from konlpy) (4.2.6)\n",
            "Collecting JPype1>=0.7.0\n",
            "  Downloading JPype1-1.3.0-cp37-cp37m-manylinux_2_5_x86_64.manylinux1_x86_64.whl (448 kB)\n",
            "\u001b[K     |████████████████████████████████| 448 kB 45.4 MB/s \n",
            "\u001b[?25hRequirement already satisfied: numpy>=1.6 in /usr/local/lib/python3.7/dist-packages (from konlpy) (1.19.5)\n",
            "Collecting beautifulsoup4==4.6.0\n",
            "  Downloading beautifulsoup4-4.6.0-py3-none-any.whl (86 kB)\n",
            "\u001b[K     |████████████████████████████████| 86 kB 6.5 MB/s \n",
            "\u001b[?25hRequirement already satisfied: tweepy>=3.7.0 in /usr/local/lib/python3.7/dist-packages (from konlpy) (3.10.0)\n",
            "Requirement already satisfied: typing-extensions in /usr/local/lib/python3.7/dist-packages (from JPype1>=0.7.0->konlpy) (3.7.4.3)\n",
            "Requirement already satisfied: requests-oauthlib>=0.7.0 in /usr/local/lib/python3.7/dist-packages (from tweepy>=3.7.0->konlpy) (1.3.0)\n",
            "Requirement already satisfied: six>=1.10.0 in /usr/local/lib/python3.7/dist-packages (from tweepy>=3.7.0->konlpy) (1.15.0)\n",
            "Requirement already satisfied: requests[socks]>=2.11.1 in /usr/local/lib/python3.7/dist-packages (from tweepy>=3.7.0->konlpy) (2.23.0)\n",
            "Requirement already satisfied: oauthlib>=3.0.0 in /usr/local/lib/python3.7/dist-packages (from requests-oauthlib>=0.7.0->tweepy>=3.7.0->konlpy) (3.1.1)\n",
            "Requirement already satisfied: chardet<4,>=3.0.2 in /usr/local/lib/python3.7/dist-packages (from requests[socks]>=2.11.1->tweepy>=3.7.0->konlpy) (3.0.4)\n",
            "Requirement already satisfied: idna<3,>=2.5 in /usr/local/lib/python3.7/dist-packages (from requests[socks]>=2.11.1->tweepy>=3.7.0->konlpy) (2.10)\n",
            "Requirement already satisfied: certifi>=2017.4.17 in /usr/local/lib/python3.7/dist-packages (from requests[socks]>=2.11.1->tweepy>=3.7.0->konlpy) (2021.5.30)\n",
            "Requirement already satisfied: urllib3!=1.25.0,!=1.25.1,<1.26,>=1.21.1 in /usr/local/lib/python3.7/dist-packages (from requests[socks]>=2.11.1->tweepy>=3.7.0->konlpy) (1.24.3)\n",
            "Requirement already satisfied: PySocks!=1.5.7,>=1.5.6 in /usr/local/lib/python3.7/dist-packages (from requests[socks]>=2.11.1->tweepy>=3.7.0->konlpy) (1.7.1)\n",
            "Installing collected packages: JPype1, colorama, beautifulsoup4, konlpy\n",
            "  Attempting uninstall: beautifulsoup4\n",
            "    Found existing installation: beautifulsoup4 4.6.3\n",
            "    Uninstalling beautifulsoup4-4.6.3:\n",
            "      Successfully uninstalled beautifulsoup4-4.6.3\n",
            "Successfully installed JPype1-1.3.0 beautifulsoup4-4.6.0 colorama-0.4.4 konlpy-0.5.2\n"
          ]
        }
      ]
    },
    {
      "cell_type": "code",
      "metadata": {
        "colab": {
          "base_uri": "https://localhost:8080/"
        },
        "id": "kZ5AQvWuUKdo",
        "outputId": "608ae32b-f7c6-4765-d7aa-656f4e64302a"
      },
      "source": [
        "import pickle\n",
        "with open('/content/original_product_data.pkl', 'rb') as fr:\n",
        "    data = pickle.load(fr)\n",
        "print(data)"
      ],
      "execution_count": 4,
      "outputs": [
        {
          "output_type": "stream",
          "name": "stdout",
          "text": [
            "        id                            name  label\n",
            "0        1            시즌/수제캔디🎃할로윈데이사탕🎃예약할인      0\n",
            "1        2                   ⭐ 인기짱 다홍에그타르트      0\n",
            "2        3              정말 맛있는 라라스모어쿠키 set      0\n",
            "3        4      💛오리지널 게릴라‼️💛녹차,인절미,모카,민트초코      0\n",
            "4        5           [예약할인]🎃할로윈데이 시즌 수제캔디🎃      0\n",
            "...    ...                             ...    ...\n",
            "6148  6149                 이미지메이킹 샴푸바 (열정)     27\n",
            "6149  6150            토이비누 👨‍👩‍👧‍👦 랜덤디자인 🎀     27\n",
            "6150  6151                           칼라민비누     27\n",
            "6151  6152                   🍩허브도넛 킹사이즈 8종     27\n",
            "6152  6153  [비누망 무료증정]❤닐솝 티트리 속옷비누 녹차 세탁비누     27\n",
            "\n",
            "[6153 rows x 3 columns]\n"
          ]
        }
      ]
    },
    {
      "cell_type": "code",
      "metadata": {
        "id": "PPuYWc69VKu_"
      },
      "source": [
        "category_label = [0, 0, 0, 1, 1, 1, 3, 1, 1, 1, 5, 3, 3, 3, 3, 6, 4, 4, 4, 4, 5, 6, 2, 2, 2, 6, 2, 2 ]"
      ],
      "execution_count": 5,
      "outputs": []
    },
    {
      "cell_type": "code",
      "metadata": {
        "colab": {
          "base_uri": "https://localhost:8080/"
        },
        "id": "4yjfeWprYKdK",
        "outputId": "c5c22f61-a9b0-42cb-b5ae-1fc5000c2397"
      },
      "source": [
        "print(len(category_label))"
      ],
      "execution_count": 6,
      "outputs": [
        {
          "output_type": "stream",
          "name": "stdout",
          "text": [
            "28\n"
          ]
        }
      ]
    },
    {
      "cell_type": "code",
      "metadata": {
        "colab": {
          "base_uri": "https://localhost:8080/",
          "height": 417
        },
        "id": "oumPjrJEcMa6",
        "outputId": "ca510e45-9c1f-4dfb-e306-c3313ec68cb9"
      },
      "source": [
        "data"
      ],
      "execution_count": 7,
      "outputs": [
        {
          "output_type": "execute_result",
          "data": {
            "text/html": [
              "<div>\n",
              "<style scoped>\n",
              "    .dataframe tbody tr th:only-of-type {\n",
              "        vertical-align: middle;\n",
              "    }\n",
              "\n",
              "    .dataframe tbody tr th {\n",
              "        vertical-align: top;\n",
              "    }\n",
              "\n",
              "    .dataframe thead th {\n",
              "        text-align: right;\n",
              "    }\n",
              "</style>\n",
              "<table border=\"1\" class=\"dataframe\">\n",
              "  <thead>\n",
              "    <tr style=\"text-align: right;\">\n",
              "      <th></th>\n",
              "      <th>id</th>\n",
              "      <th>name</th>\n",
              "      <th>label</th>\n",
              "    </tr>\n",
              "  </thead>\n",
              "  <tbody>\n",
              "    <tr>\n",
              "      <th>0</th>\n",
              "      <td>1</td>\n",
              "      <td>시즌/수제캔디🎃할로윈데이사탕🎃예약할인</td>\n",
              "      <td>0</td>\n",
              "    </tr>\n",
              "    <tr>\n",
              "      <th>1</th>\n",
              "      <td>2</td>\n",
              "      <td>⭐ 인기짱 다홍에그타르트</td>\n",
              "      <td>0</td>\n",
              "    </tr>\n",
              "    <tr>\n",
              "      <th>2</th>\n",
              "      <td>3</td>\n",
              "      <td>정말 맛있는 라라스모어쿠키 set</td>\n",
              "      <td>0</td>\n",
              "    </tr>\n",
              "    <tr>\n",
              "      <th>3</th>\n",
              "      <td>4</td>\n",
              "      <td>💛오리지널 게릴라‼️💛녹차,인절미,모카,민트초코</td>\n",
              "      <td>0</td>\n",
              "    </tr>\n",
              "    <tr>\n",
              "      <th>4</th>\n",
              "      <td>5</td>\n",
              "      <td>[예약할인]🎃할로윈데이 시즌 수제캔디🎃</td>\n",
              "      <td>0</td>\n",
              "    </tr>\n",
              "    <tr>\n",
              "      <th>...</th>\n",
              "      <td>...</td>\n",
              "      <td>...</td>\n",
              "      <td>...</td>\n",
              "    </tr>\n",
              "    <tr>\n",
              "      <th>6148</th>\n",
              "      <td>6149</td>\n",
              "      <td>이미지메이킹 샴푸바 (열정)</td>\n",
              "      <td>27</td>\n",
              "    </tr>\n",
              "    <tr>\n",
              "      <th>6149</th>\n",
              "      <td>6150</td>\n",
              "      <td>토이비누 👨‍👩‍👧‍👦 랜덤디자인 🎀</td>\n",
              "      <td>27</td>\n",
              "    </tr>\n",
              "    <tr>\n",
              "      <th>6150</th>\n",
              "      <td>6151</td>\n",
              "      <td>칼라민비누</td>\n",
              "      <td>27</td>\n",
              "    </tr>\n",
              "    <tr>\n",
              "      <th>6151</th>\n",
              "      <td>6152</td>\n",
              "      <td>🍩허브도넛 킹사이즈 8종</td>\n",
              "      <td>27</td>\n",
              "    </tr>\n",
              "    <tr>\n",
              "      <th>6152</th>\n",
              "      <td>6153</td>\n",
              "      <td>[비누망 무료증정]❤닐솝 티트리 속옷비누 녹차 세탁비누</td>\n",
              "      <td>27</td>\n",
              "    </tr>\n",
              "  </tbody>\n",
              "</table>\n",
              "<p>6153 rows × 3 columns</p>\n",
              "</div>"
            ],
            "text/plain": [
              "        id                            name  label\n",
              "0        1            시즌/수제캔디🎃할로윈데이사탕🎃예약할인      0\n",
              "1        2                   ⭐ 인기짱 다홍에그타르트      0\n",
              "2        3              정말 맛있는 라라스모어쿠키 set      0\n",
              "3        4      💛오리지널 게릴라‼️💛녹차,인절미,모카,민트초코      0\n",
              "4        5           [예약할인]🎃할로윈데이 시즌 수제캔디🎃      0\n",
              "...    ...                             ...    ...\n",
              "6148  6149                 이미지메이킹 샴푸바 (열정)     27\n",
              "6149  6150            토이비누 👨‍👩‍👧‍👦 랜덤디자인 🎀     27\n",
              "6150  6151                           칼라민비누     27\n",
              "6151  6152                   🍩허브도넛 킹사이즈 8종     27\n",
              "6152  6153  [비누망 무료증정]❤닐솝 티트리 속옷비누 녹차 세탁비누     27\n",
              "\n",
              "[6153 rows x 3 columns]"
            ]
          },
          "metadata": {},
          "execution_count": 7
        }
      ]
    },
    {
      "cell_type": "code",
      "metadata": {
        "id": "ZTwngrKldE5R"
      },
      "source": [
        "import numpy as np\n",
        "for idx, value in enumerate(category_label):\n",
        "    data['label'] = np.select([data.label == idx], [value], data.label) "
      ],
      "execution_count": 8,
      "outputs": []
    },
    {
      "cell_type": "code",
      "metadata": {
        "colab": {
          "base_uri": "https://localhost:8080/",
          "height": 417
        },
        "id": "IIPL2rZ7Uyf9",
        "outputId": "3b95ba59-dee5-4dcb-db1c-337e57ffba0e"
      },
      "source": [
        "data[1555:5000]"
      ],
      "execution_count": 9,
      "outputs": [
        {
          "output_type": "execute_result",
          "data": {
            "text/html": [
              "<div>\n",
              "<style scoped>\n",
              "    .dataframe tbody tr th:only-of-type {\n",
              "        vertical-align: middle;\n",
              "    }\n",
              "\n",
              "    .dataframe tbody tr th {\n",
              "        vertical-align: top;\n",
              "    }\n",
              "\n",
              "    .dataframe thead th {\n",
              "        text-align: right;\n",
              "    }\n",
              "</style>\n",
              "<table border=\"1\" class=\"dataframe\">\n",
              "  <thead>\n",
              "    <tr style=\"text-align: right;\">\n",
              "      <th></th>\n",
              "      <th>id</th>\n",
              "      <th>name</th>\n",
              "      <th>label</th>\n",
              "    </tr>\n",
              "  </thead>\n",
              "  <tbody>\n",
              "    <tr>\n",
              "      <th>1555</th>\n",
              "      <td>1556</td>\n",
              "      <td>🌼야옹이 투웨이 다용도케이스🌼 필통, 안경집, 지갑</td>\n",
              "      <td>1</td>\n",
              "    </tr>\n",
              "    <tr>\n",
              "      <th>1556</th>\n",
              "      <td>1557</td>\n",
              "      <td>🔥오늘만할인🔥이그재틱 쉬폰 스카프,생일선물,가을</td>\n",
              "      <td>1</td>\n",
              "    </tr>\n",
              "    <tr>\n",
              "      <th>1557</th>\n",
              "      <td>1558</td>\n",
              "      <td>광목 앞치마</td>\n",
              "      <td>1</td>\n",
              "    </tr>\n",
              "    <tr>\n",
              "      <th>1558</th>\n",
              "      <td>1559</td>\n",
              "      <td>영문 레터링 이니셜 자수 손수건 커플 생일 가을</td>\n",
              "      <td>1</td>\n",
              "    </tr>\n",
              "    <tr>\n",
              "      <th>1559</th>\n",
              "      <td>1560</td>\n",
              "      <td>생활한복 무지T 나그랑 남녀공용 저고리 블랙</td>\n",
              "      <td>1</td>\n",
              "    </tr>\n",
              "    <tr>\n",
              "      <th>...</th>\n",
              "      <td>...</td>\n",
              "      <td>...</td>\n",
              "      <td>...</td>\n",
              "    </tr>\n",
              "    <tr>\n",
              "      <th>4995</th>\n",
              "      <td>4996</td>\n",
              "      <td>(Z플립3/아이폰13)🦋나비 구름 폰케이스🦋</td>\n",
              "      <td>2</td>\n",
              "    </tr>\n",
              "    <tr>\n",
              "      <th>4996</th>\n",
              "      <td>4997</td>\n",
              "      <td>투톤 오일 풀업 천연소가죽 폰케이스</td>\n",
              "      <td>2</td>\n",
              "    </tr>\n",
              "    <tr>\n",
              "      <th>4997</th>\n",
              "      <td>4998</td>\n",
              "      <td>💎왕진주 스트랩 케이스💎</td>\n",
              "      <td>2</td>\n",
              "    </tr>\n",
              "    <tr>\n",
              "      <th>4998</th>\n",
              "      <td>4999</td>\n",
              "      <td>[모던체크 패턴 ] 아이폰 갤럭시 카드수납 폰케이스</td>\n",
              "      <td>2</td>\n",
              "    </tr>\n",
              "    <tr>\n",
              "      <th>4999</th>\n",
              "      <td>5000</td>\n",
              "      <td>[수상작]수호천사 호랑이와소나무폰케이스</td>\n",
              "      <td>2</td>\n",
              "    </tr>\n",
              "  </tbody>\n",
              "</table>\n",
              "<p>3445 rows × 3 columns</p>\n",
              "</div>"
            ],
            "text/plain": [
              "        id                          name  label\n",
              "1555  1556  🌼야옹이 투웨이 다용도케이스🌼 필통, 안경집, 지갑      1\n",
              "1556  1557    🔥오늘만할인🔥이그재틱 쉬폰 스카프,생일선물,가을      1\n",
              "1557  1558                        광목 앞치마      1\n",
              "1558  1559    영문 레터링 이니셜 자수 손수건 커플 생일 가을      1\n",
              "1559  1560      생활한복 무지T 나그랑 남녀공용 저고리 블랙      1\n",
              "...    ...                           ...    ...\n",
              "4995  4996      (Z플립3/아이폰13)🦋나비 구름 폰케이스🦋      2\n",
              "4996  4997           투톤 오일 풀업 천연소가죽 폰케이스      2\n",
              "4997  4998                 💎왕진주 스트랩 케이스💎      2\n",
              "4998  4999  [모던체크 패턴 ] 아이폰 갤럭시 카드수납 폰케이스      2\n",
              "4999  5000         [수상작]수호천사 호랑이와소나무폰케이스      2\n",
              "\n",
              "[3445 rows x 3 columns]"
            ]
          },
          "metadata": {},
          "execution_count": 9
        }
      ]
    },
    {
      "cell_type": "code",
      "metadata": {
        "colab": {
          "base_uri": "https://localhost:8080/",
          "height": 417
        },
        "id": "W_JhZEGZU-nF",
        "outputId": "cf4e0c25-8169-41ff-e54a-6ee24ff533a0"
      },
      "source": [
        "data"
      ],
      "execution_count": 10,
      "outputs": [
        {
          "output_type": "execute_result",
          "data": {
            "text/html": [
              "<div>\n",
              "<style scoped>\n",
              "    .dataframe tbody tr th:only-of-type {\n",
              "        vertical-align: middle;\n",
              "    }\n",
              "\n",
              "    .dataframe tbody tr th {\n",
              "        vertical-align: top;\n",
              "    }\n",
              "\n",
              "    .dataframe thead th {\n",
              "        text-align: right;\n",
              "    }\n",
              "</style>\n",
              "<table border=\"1\" class=\"dataframe\">\n",
              "  <thead>\n",
              "    <tr style=\"text-align: right;\">\n",
              "      <th></th>\n",
              "      <th>id</th>\n",
              "      <th>name</th>\n",
              "      <th>label</th>\n",
              "    </tr>\n",
              "  </thead>\n",
              "  <tbody>\n",
              "    <tr>\n",
              "      <th>0</th>\n",
              "      <td>1</td>\n",
              "      <td>시즌/수제캔디🎃할로윈데이사탕🎃예약할인</td>\n",
              "      <td>0</td>\n",
              "    </tr>\n",
              "    <tr>\n",
              "      <th>1</th>\n",
              "      <td>2</td>\n",
              "      <td>⭐ 인기짱 다홍에그타르트</td>\n",
              "      <td>0</td>\n",
              "    </tr>\n",
              "    <tr>\n",
              "      <th>2</th>\n",
              "      <td>3</td>\n",
              "      <td>정말 맛있는 라라스모어쿠키 set</td>\n",
              "      <td>0</td>\n",
              "    </tr>\n",
              "    <tr>\n",
              "      <th>3</th>\n",
              "      <td>4</td>\n",
              "      <td>💛오리지널 게릴라‼️💛녹차,인절미,모카,민트초코</td>\n",
              "      <td>0</td>\n",
              "    </tr>\n",
              "    <tr>\n",
              "      <th>4</th>\n",
              "      <td>5</td>\n",
              "      <td>[예약할인]🎃할로윈데이 시즌 수제캔디🎃</td>\n",
              "      <td>0</td>\n",
              "    </tr>\n",
              "    <tr>\n",
              "      <th>...</th>\n",
              "      <td>...</td>\n",
              "      <td>...</td>\n",
              "      <td>...</td>\n",
              "    </tr>\n",
              "    <tr>\n",
              "      <th>6148</th>\n",
              "      <td>6149</td>\n",
              "      <td>이미지메이킹 샴푸바 (열정)</td>\n",
              "      <td>2</td>\n",
              "    </tr>\n",
              "    <tr>\n",
              "      <th>6149</th>\n",
              "      <td>6150</td>\n",
              "      <td>토이비누 👨‍👩‍👧‍👦 랜덤디자인 🎀</td>\n",
              "      <td>2</td>\n",
              "    </tr>\n",
              "    <tr>\n",
              "      <th>6150</th>\n",
              "      <td>6151</td>\n",
              "      <td>칼라민비누</td>\n",
              "      <td>2</td>\n",
              "    </tr>\n",
              "    <tr>\n",
              "      <th>6151</th>\n",
              "      <td>6152</td>\n",
              "      <td>🍩허브도넛 킹사이즈 8종</td>\n",
              "      <td>2</td>\n",
              "    </tr>\n",
              "    <tr>\n",
              "      <th>6152</th>\n",
              "      <td>6153</td>\n",
              "      <td>[비누망 무료증정]❤닐솝 티트리 속옷비누 녹차 세탁비누</td>\n",
              "      <td>2</td>\n",
              "    </tr>\n",
              "  </tbody>\n",
              "</table>\n",
              "<p>6153 rows × 3 columns</p>\n",
              "</div>"
            ],
            "text/plain": [
              "        id                            name  label\n",
              "0        1            시즌/수제캔디🎃할로윈데이사탕🎃예약할인      0\n",
              "1        2                   ⭐ 인기짱 다홍에그타르트      0\n",
              "2        3              정말 맛있는 라라스모어쿠키 set      0\n",
              "3        4      💛오리지널 게릴라‼️💛녹차,인절미,모카,민트초코      0\n",
              "4        5           [예약할인]🎃할로윈데이 시즌 수제캔디🎃      0\n",
              "...    ...                             ...    ...\n",
              "6148  6149                 이미지메이킹 샴푸바 (열정)      2\n",
              "6149  6150            토이비누 👨‍👩‍👧‍👦 랜덤디자인 🎀      2\n",
              "6150  6151                           칼라민비누      2\n",
              "6151  6152                   🍩허브도넛 킹사이즈 8종      2\n",
              "6152  6153  [비누망 무료증정]❤닐솝 티트리 속옷비누 녹차 세탁비누      2\n",
              "\n",
              "[6153 rows x 3 columns]"
            ]
          },
          "metadata": {},
          "execution_count": 10
        }
      ]
    },
    {
      "cell_type": "code",
      "metadata": {
        "id": "QeKte_xBoqjX"
      },
      "source": [
        "data = data.loc[:, [\"name\", \"label\"]]"
      ],
      "execution_count": 11,
      "outputs": []
    },
    {
      "cell_type": "code",
      "metadata": {
        "colab": {
          "base_uri": "https://localhost:8080/",
          "height": 417
        },
        "id": "qdlMSrE2o73-",
        "outputId": "9a8a1c5f-73b2-45fd-a46f-651947ce105b"
      },
      "source": [
        "data"
      ],
      "execution_count": 12,
      "outputs": [
        {
          "output_type": "execute_result",
          "data": {
            "text/html": [
              "<div>\n",
              "<style scoped>\n",
              "    .dataframe tbody tr th:only-of-type {\n",
              "        vertical-align: middle;\n",
              "    }\n",
              "\n",
              "    .dataframe tbody tr th {\n",
              "        vertical-align: top;\n",
              "    }\n",
              "\n",
              "    .dataframe thead th {\n",
              "        text-align: right;\n",
              "    }\n",
              "</style>\n",
              "<table border=\"1\" class=\"dataframe\">\n",
              "  <thead>\n",
              "    <tr style=\"text-align: right;\">\n",
              "      <th></th>\n",
              "      <th>name</th>\n",
              "      <th>label</th>\n",
              "    </tr>\n",
              "  </thead>\n",
              "  <tbody>\n",
              "    <tr>\n",
              "      <th>0</th>\n",
              "      <td>시즌/수제캔디🎃할로윈데이사탕🎃예약할인</td>\n",
              "      <td>0</td>\n",
              "    </tr>\n",
              "    <tr>\n",
              "      <th>1</th>\n",
              "      <td>⭐ 인기짱 다홍에그타르트</td>\n",
              "      <td>0</td>\n",
              "    </tr>\n",
              "    <tr>\n",
              "      <th>2</th>\n",
              "      <td>정말 맛있는 라라스모어쿠키 set</td>\n",
              "      <td>0</td>\n",
              "    </tr>\n",
              "    <tr>\n",
              "      <th>3</th>\n",
              "      <td>💛오리지널 게릴라‼️💛녹차,인절미,모카,민트초코</td>\n",
              "      <td>0</td>\n",
              "    </tr>\n",
              "    <tr>\n",
              "      <th>4</th>\n",
              "      <td>[예약할인]🎃할로윈데이 시즌 수제캔디🎃</td>\n",
              "      <td>0</td>\n",
              "    </tr>\n",
              "    <tr>\n",
              "      <th>...</th>\n",
              "      <td>...</td>\n",
              "      <td>...</td>\n",
              "    </tr>\n",
              "    <tr>\n",
              "      <th>6148</th>\n",
              "      <td>이미지메이킹 샴푸바 (열정)</td>\n",
              "      <td>2</td>\n",
              "    </tr>\n",
              "    <tr>\n",
              "      <th>6149</th>\n",
              "      <td>토이비누 👨‍👩‍👧‍👦 랜덤디자인 🎀</td>\n",
              "      <td>2</td>\n",
              "    </tr>\n",
              "    <tr>\n",
              "      <th>6150</th>\n",
              "      <td>칼라민비누</td>\n",
              "      <td>2</td>\n",
              "    </tr>\n",
              "    <tr>\n",
              "      <th>6151</th>\n",
              "      <td>🍩허브도넛 킹사이즈 8종</td>\n",
              "      <td>2</td>\n",
              "    </tr>\n",
              "    <tr>\n",
              "      <th>6152</th>\n",
              "      <td>[비누망 무료증정]❤닐솝 티트리 속옷비누 녹차 세탁비누</td>\n",
              "      <td>2</td>\n",
              "    </tr>\n",
              "  </tbody>\n",
              "</table>\n",
              "<p>6153 rows × 2 columns</p>\n",
              "</div>"
            ],
            "text/plain": [
              "                                name  label\n",
              "0               시즌/수제캔디🎃할로윈데이사탕🎃예약할인      0\n",
              "1                      ⭐ 인기짱 다홍에그타르트      0\n",
              "2                 정말 맛있는 라라스모어쿠키 set      0\n",
              "3         💛오리지널 게릴라‼️💛녹차,인절미,모카,민트초코      0\n",
              "4              [예약할인]🎃할로윈데이 시즌 수제캔디🎃      0\n",
              "...                              ...    ...\n",
              "6148                 이미지메이킹 샴푸바 (열정)      2\n",
              "6149            토이비누 👨‍👩‍👧‍👦 랜덤디자인 🎀      2\n",
              "6150                           칼라민비누      2\n",
              "6151                   🍩허브도넛 킹사이즈 8종      2\n",
              "6152  [비누망 무료증정]❤닐솝 티트리 속옷비누 녹차 세탁비누      2\n",
              "\n",
              "[6153 rows x 2 columns]"
            ]
          },
          "metadata": {},
          "execution_count": 12
        }
      ]
    },
    {
      "cell_type": "code",
      "metadata": {
        "id": "t9sd-uu-o8ZY"
      },
      "source": [
        "data['name'] = data['name'].str.replace(\"[^ㄱ-ㅎㅏ-ㅣ가-힣 ]\",\"\") # 정규 표현식 수행\n",
        "data['name'].replace('', np.nan, inplace=True) # 공백은 Null 값으로 변경"
      ],
      "execution_count": 13,
      "outputs": []
    },
    {
      "cell_type": "code",
      "metadata": {
        "colab": {
          "base_uri": "https://localhost:8080/",
          "height": 417
        },
        "id": "nGT35jmco-7r",
        "outputId": "2eca59eb-7bbe-40b9-a310-c3ca51b3d8e5"
      },
      "source": [
        "data"
      ],
      "execution_count": 14,
      "outputs": [
        {
          "output_type": "execute_result",
          "data": {
            "text/html": [
              "<div>\n",
              "<style scoped>\n",
              "    .dataframe tbody tr th:only-of-type {\n",
              "        vertical-align: middle;\n",
              "    }\n",
              "\n",
              "    .dataframe tbody tr th {\n",
              "        vertical-align: top;\n",
              "    }\n",
              "\n",
              "    .dataframe thead th {\n",
              "        text-align: right;\n",
              "    }\n",
              "</style>\n",
              "<table border=\"1\" class=\"dataframe\">\n",
              "  <thead>\n",
              "    <tr style=\"text-align: right;\">\n",
              "      <th></th>\n",
              "      <th>name</th>\n",
              "      <th>label</th>\n",
              "    </tr>\n",
              "  </thead>\n",
              "  <tbody>\n",
              "    <tr>\n",
              "      <th>0</th>\n",
              "      <td>시즌수제캔디할로윈데이사탕예약할인</td>\n",
              "      <td>0</td>\n",
              "    </tr>\n",
              "    <tr>\n",
              "      <th>1</th>\n",
              "      <td>인기짱 다홍에그타르트</td>\n",
              "      <td>0</td>\n",
              "    </tr>\n",
              "    <tr>\n",
              "      <th>2</th>\n",
              "      <td>정말 맛있는 라라스모어쿠키</td>\n",
              "      <td>0</td>\n",
              "    </tr>\n",
              "    <tr>\n",
              "      <th>3</th>\n",
              "      <td>오리지널 게릴라녹차인절미모카민트초코</td>\n",
              "      <td>0</td>\n",
              "    </tr>\n",
              "    <tr>\n",
              "      <th>4</th>\n",
              "      <td>예약할인할로윈데이 시즌 수제캔디</td>\n",
              "      <td>0</td>\n",
              "    </tr>\n",
              "    <tr>\n",
              "      <th>...</th>\n",
              "      <td>...</td>\n",
              "      <td>...</td>\n",
              "    </tr>\n",
              "    <tr>\n",
              "      <th>6148</th>\n",
              "      <td>이미지메이킹 샴푸바 열정</td>\n",
              "      <td>2</td>\n",
              "    </tr>\n",
              "    <tr>\n",
              "      <th>6149</th>\n",
              "      <td>토이비누  랜덤디자인</td>\n",
              "      <td>2</td>\n",
              "    </tr>\n",
              "    <tr>\n",
              "      <th>6150</th>\n",
              "      <td>칼라민비누</td>\n",
              "      <td>2</td>\n",
              "    </tr>\n",
              "    <tr>\n",
              "      <th>6151</th>\n",
              "      <td>허브도넛 킹사이즈 종</td>\n",
              "      <td>2</td>\n",
              "    </tr>\n",
              "    <tr>\n",
              "      <th>6152</th>\n",
              "      <td>비누망 무료증정닐솝 티트리 속옷비누 녹차 세탁비누</td>\n",
              "      <td>2</td>\n",
              "    </tr>\n",
              "  </tbody>\n",
              "</table>\n",
              "<p>6153 rows × 2 columns</p>\n",
              "</div>"
            ],
            "text/plain": [
              "                             name  label\n",
              "0               시즌수제캔디할로윈데이사탕예약할인      0\n",
              "1                     인기짱 다홍에그타르트      0\n",
              "2                 정말 맛있는 라라스모어쿠키       0\n",
              "3             오리지널 게릴라녹차인절미모카민트초코      0\n",
              "4               예약할인할로윈데이 시즌 수제캔디      0\n",
              "...                           ...    ...\n",
              "6148                이미지메이킹 샴푸바 열정      2\n",
              "6149                 토이비누  랜덤디자인       2\n",
              "6150                        칼라민비누      2\n",
              "6151                  허브도넛 킹사이즈 종      2\n",
              "6152  비누망 무료증정닐솝 티트리 속옷비누 녹차 세탁비누      2\n",
              "\n",
              "[6153 rows x 2 columns]"
            ]
          },
          "metadata": {},
          "execution_count": 14
        }
      ]
    },
    {
      "cell_type": "code",
      "metadata": {
        "colab": {
          "base_uri": "https://localhost:8080/"
        },
        "id": "Czb7pXhfpCcS",
        "outputId": "0e138c7a-661c-4884-b18f-a54589951a84"
      },
      "source": [
        "print(len(data))"
      ],
      "execution_count": 15,
      "outputs": [
        {
          "output_type": "stream",
          "name": "stdout",
          "text": [
            "6153\n"
          ]
        }
      ]
    },
    {
      "cell_type": "code",
      "metadata": {
        "colab": {
          "base_uri": "https://localhost:8080/"
        },
        "id": "rPakWJfWpDu6",
        "outputId": "f997e68a-effb-4592-9d57-00176a6e8684"
      },
      "source": [
        "data.isnull().sum()"
      ],
      "execution_count": 16,
      "outputs": [
        {
          "output_type": "execute_result",
          "data": {
            "text/plain": [
              "name     5\n",
              "label    0\n",
              "dtype: int64"
            ]
          },
          "metadata": {},
          "execution_count": 16
        }
      ]
    },
    {
      "cell_type": "code",
      "metadata": {
        "colab": {
          "base_uri": "https://localhost:8080/",
          "height": 417
        },
        "id": "hisaVAcxpEzR",
        "outputId": "70b2132a-edd3-4cf9-e1b0-7d924150dc8c"
      },
      "source": [
        "data.dropna(how='any')"
      ],
      "execution_count": 17,
      "outputs": [
        {
          "output_type": "execute_result",
          "data": {
            "text/html": [
              "<div>\n",
              "<style scoped>\n",
              "    .dataframe tbody tr th:only-of-type {\n",
              "        vertical-align: middle;\n",
              "    }\n",
              "\n",
              "    .dataframe tbody tr th {\n",
              "        vertical-align: top;\n",
              "    }\n",
              "\n",
              "    .dataframe thead th {\n",
              "        text-align: right;\n",
              "    }\n",
              "</style>\n",
              "<table border=\"1\" class=\"dataframe\">\n",
              "  <thead>\n",
              "    <tr style=\"text-align: right;\">\n",
              "      <th></th>\n",
              "      <th>name</th>\n",
              "      <th>label</th>\n",
              "    </tr>\n",
              "  </thead>\n",
              "  <tbody>\n",
              "    <tr>\n",
              "      <th>0</th>\n",
              "      <td>시즌수제캔디할로윈데이사탕예약할인</td>\n",
              "      <td>0</td>\n",
              "    </tr>\n",
              "    <tr>\n",
              "      <th>1</th>\n",
              "      <td>인기짱 다홍에그타르트</td>\n",
              "      <td>0</td>\n",
              "    </tr>\n",
              "    <tr>\n",
              "      <th>2</th>\n",
              "      <td>정말 맛있는 라라스모어쿠키</td>\n",
              "      <td>0</td>\n",
              "    </tr>\n",
              "    <tr>\n",
              "      <th>3</th>\n",
              "      <td>오리지널 게릴라녹차인절미모카민트초코</td>\n",
              "      <td>0</td>\n",
              "    </tr>\n",
              "    <tr>\n",
              "      <th>4</th>\n",
              "      <td>예약할인할로윈데이 시즌 수제캔디</td>\n",
              "      <td>0</td>\n",
              "    </tr>\n",
              "    <tr>\n",
              "      <th>...</th>\n",
              "      <td>...</td>\n",
              "      <td>...</td>\n",
              "    </tr>\n",
              "    <tr>\n",
              "      <th>6148</th>\n",
              "      <td>이미지메이킹 샴푸바 열정</td>\n",
              "      <td>2</td>\n",
              "    </tr>\n",
              "    <tr>\n",
              "      <th>6149</th>\n",
              "      <td>토이비누  랜덤디자인</td>\n",
              "      <td>2</td>\n",
              "    </tr>\n",
              "    <tr>\n",
              "      <th>6150</th>\n",
              "      <td>칼라민비누</td>\n",
              "      <td>2</td>\n",
              "    </tr>\n",
              "    <tr>\n",
              "      <th>6151</th>\n",
              "      <td>허브도넛 킹사이즈 종</td>\n",
              "      <td>2</td>\n",
              "    </tr>\n",
              "    <tr>\n",
              "      <th>6152</th>\n",
              "      <td>비누망 무료증정닐솝 티트리 속옷비누 녹차 세탁비누</td>\n",
              "      <td>2</td>\n",
              "    </tr>\n",
              "  </tbody>\n",
              "</table>\n",
              "<p>6148 rows × 2 columns</p>\n",
              "</div>"
            ],
            "text/plain": [
              "                             name  label\n",
              "0               시즌수제캔디할로윈데이사탕예약할인      0\n",
              "1                     인기짱 다홍에그타르트      0\n",
              "2                 정말 맛있는 라라스모어쿠키       0\n",
              "3             오리지널 게릴라녹차인절미모카민트초코      0\n",
              "4               예약할인할로윈데이 시즌 수제캔디      0\n",
              "...                           ...    ...\n",
              "6148                이미지메이킹 샴푸바 열정      2\n",
              "6149                 토이비누  랜덤디자인       2\n",
              "6150                        칼라민비누      2\n",
              "6151                  허브도넛 킹사이즈 종      2\n",
              "6152  비누망 무료증정닐솝 티트리 속옷비누 녹차 세탁비누      2\n",
              "\n",
              "[6148 rows x 2 columns]"
            ]
          },
          "metadata": {},
          "execution_count": 17
        }
      ]
    },
    {
      "cell_type": "code",
      "metadata": {
        "id": "zLFV-cuypHYG"
      },
      "source": [
        "from sklearn.model_selection import train_test_split\n",
        "from tensorflow.keras.utils import to_categorical\n",
        "import pandas as pd \n",
        "\n",
        "# split하면서 shuffle 적용\n",
        "product_train, product_test, y_train, y_test = train_test_split(data['name'], data['label'], test_size=0.2, random_state = 42)\n",
        "\n",
        "# 원핫벡터로 만들어줍시다! (num_classes로 카테고리 수 명시 가능)\n",
        "y_train = to_categorical(y_train)\n",
        "y_test = to_categorical(y_test)\n",
        "\n",
        "product_train = pd.DataFrame(product_train)\n",
        "product_test = pd.DataFrame(product_test)"
      ],
      "execution_count": 18,
      "outputs": []
    },
    {
      "cell_type": "code",
      "metadata": {
        "colab": {
          "base_uri": "https://localhost:8080/",
          "height": 417
        },
        "id": "NOz3q-svpLdc",
        "outputId": "162b2ffd-620a-4b38-b8ee-be823efa37e3"
      },
      "source": [
        "product_train"
      ],
      "execution_count": 19,
      "outputs": [
        {
          "output_type": "execute_result",
          "data": {
            "text/html": [
              "<div>\n",
              "<style scoped>\n",
              "    .dataframe tbody tr th:only-of-type {\n",
              "        vertical-align: middle;\n",
              "    }\n",
              "\n",
              "    .dataframe tbody tr th {\n",
              "        vertical-align: top;\n",
              "    }\n",
              "\n",
              "    .dataframe thead th {\n",
              "        text-align: right;\n",
              "    }\n",
              "</style>\n",
              "<table border=\"1\" class=\"dataframe\">\n",
              "  <thead>\n",
              "    <tr style=\"text-align: right;\">\n",
              "      <th></th>\n",
              "      <th>name</th>\n",
              "    </tr>\n",
              "  </thead>\n",
              "  <tbody>\n",
              "    <tr>\n",
              "      <th>2716</th>\n",
              "      <td>은귀걸이 나비 귀걸이</td>\n",
              "    </tr>\n",
              "    <tr>\n",
              "      <th>5326</th>\n",
              "      <td>태명넣어 만든 임신 초음파앨범꾸미기 주수 스티커</td>\n",
              "    </tr>\n",
              "    <tr>\n",
              "      <th>443</th>\n",
              "      <td>데워만먹는고등어구이부먹찍먹간장소스</td>\n",
              "    </tr>\n",
              "    <tr>\n",
              "      <th>4447</th>\n",
              "      <td>컬러팝 데일리 인식표</td>\n",
              "    </tr>\n",
              "    <tr>\n",
              "      <th>3479</th>\n",
              "      <td>몬스테라 아단소니 세라믹 행잉화분세트</td>\n",
              "    </tr>\n",
              "    <tr>\n",
              "      <th>...</th>\n",
              "      <td>...</td>\n",
              "    </tr>\n",
              "    <tr>\n",
              "      <th>3772</th>\n",
              "      <td>연애 버킷리스트 커플생일기념일</td>\n",
              "    </tr>\n",
              "    <tr>\n",
              "      <th>5191</th>\n",
              "      <td>뽑기모양추가달고나 스마트톡</td>\n",
              "    </tr>\n",
              "    <tr>\n",
              "      <th>5226</th>\n",
              "      <td>할인루로하 에어팟 케이스</td>\n",
              "    </tr>\n",
              "    <tr>\n",
              "      <th>5390</th>\n",
              "      <td>슬림 주차번호판 자동차선물</td>\n",
              "    </tr>\n",
              "    <tr>\n",
              "      <th>860</th>\n",
              "      <td>생활한복 여름용 허리치마 그린</td>\n",
              "    </tr>\n",
              "  </tbody>\n",
              "</table>\n",
              "<p>4922 rows × 1 columns</p>\n",
              "</div>"
            ],
            "text/plain": [
              "                            name\n",
              "2716                 은귀걸이 나비 귀걸이\n",
              "5326  태명넣어 만든 임신 초음파앨범꾸미기 주수 스티커\n",
              "443           데워만먹는고등어구이부먹찍먹간장소스\n",
              "4447                 컬러팝 데일리 인식표\n",
              "3479        몬스테라 아단소니 세라믹 행잉화분세트\n",
              "...                          ...\n",
              "3772            연애 버킷리스트 커플생일기념일\n",
              "5191              뽑기모양추가달고나 스마트톡\n",
              "5226               할인루로하 에어팟 케이스\n",
              "5390              슬림 주차번호판 자동차선물\n",
              "860             생활한복 여름용 허리치마 그린\n",
              "\n",
              "[4922 rows x 1 columns]"
            ]
          },
          "metadata": {},
          "execution_count": 19
        }
      ]
    },
    {
      "cell_type": "code",
      "metadata": {
        "colab": {
          "base_uri": "https://localhost:8080/"
        },
        "id": "Cvg-U5wppNGh",
        "outputId": "0f5b34ac-b5ed-47a7-a0db-37919ebd2364"
      },
      "source": [
        "print(len(y_train))\n",
        "print(len(y_test))"
      ],
      "execution_count": 20,
      "outputs": [
        {
          "output_type": "stream",
          "name": "stdout",
          "text": [
            "4922\n",
            "1231\n"
          ]
        }
      ]
    },
    {
      "cell_type": "code",
      "metadata": {
        "id": "uVJaU9e1pPr8"
      },
      "source": [
        "stopwords = ['도', '는', '다', '의', '가', '이', '은', '한', '에', '하', '고', '을', '를', '인', '듯', '과', '와', '네', '들', '듯', '지', '임', '게', '인기', '짱', '강력', '추천', '선물', '특가', '할인', '세일', '생일', '기념일']"
      ],
      "execution_count": 21,
      "outputs": []
    },
    {
      "cell_type": "code",
      "metadata": {
        "id": "KjA0QTO1pRPw"
      },
      "source": [
        "product_train = product_train.astype(\n",
        "    {'name': str}\n",
        ")\n",
        "\n",
        "product_test = product_test.astype(\n",
        "    {'name': str}\n",
        ")"
      ],
      "execution_count": 22,
      "outputs": []
    },
    {
      "cell_type": "code",
      "metadata": {
        "id": "Sn5FXEKYpACY"
      },
      "source": [
        "from konlpy.tag import Okt\n",
        "import matplotlib.pyplot as plt"
      ],
      "execution_count": 23,
      "outputs": []
    },
    {
      "cell_type": "code",
      "metadata": {
        "id": "uNTXlMHypBVN"
      },
      "source": [
        "okt = Okt()"
      ],
      "execution_count": 24,
      "outputs": []
    },
    {
      "cell_type": "code",
      "metadata": {
        "id": "yS6naiP1pSI-"
      },
      "source": [
        "product_train['tokenized'] = product_train['name'].apply(okt.morphs)\n",
        "product_train['tokenized'] = product_train['tokenized'].apply(lambda x: [item for item in x if item not in stopwords])\n",
        "\n",
        "product_test['tokenized'] = product_test['name'].apply(okt.morphs)\n",
        "product_test['tokenized'] = product_test['tokenized'].apply(lambda x: [item for item in x if item not in stopwords])"
      ],
      "execution_count": 25,
      "outputs": []
    },
    {
      "cell_type": "code",
      "metadata": {
        "colab": {
          "base_uri": "https://localhost:8080/",
          "height": 417
        },
        "id": "KXBAGRSipTGs",
        "outputId": "d408c94e-245f-4143-9834-70e805830579"
      },
      "source": [
        "product_train"
      ],
      "execution_count": 26,
      "outputs": [
        {
          "output_type": "execute_result",
          "data": {
            "text/html": [
              "<div>\n",
              "<style scoped>\n",
              "    .dataframe tbody tr th:only-of-type {\n",
              "        vertical-align: middle;\n",
              "    }\n",
              "\n",
              "    .dataframe tbody tr th {\n",
              "        vertical-align: top;\n",
              "    }\n",
              "\n",
              "    .dataframe thead th {\n",
              "        text-align: right;\n",
              "    }\n",
              "</style>\n",
              "<table border=\"1\" class=\"dataframe\">\n",
              "  <thead>\n",
              "    <tr style=\"text-align: right;\">\n",
              "      <th></th>\n",
              "      <th>name</th>\n",
              "      <th>tokenized</th>\n",
              "    </tr>\n",
              "  </thead>\n",
              "  <tbody>\n",
              "    <tr>\n",
              "      <th>2716</th>\n",
              "      <td>은귀걸이 나비 귀걸이</td>\n",
              "      <td>[귀걸이, 나비, 귀걸이]</td>\n",
              "    </tr>\n",
              "    <tr>\n",
              "      <th>5326</th>\n",
              "      <td>태명넣어 만든 임신 초음파앨범꾸미기 주수 스티커</td>\n",
              "      <td>[태명, 넣어, 만든, 임신, 초음파, 앨범, 꾸미기, 주수, 스티커]</td>\n",
              "    </tr>\n",
              "    <tr>\n",
              "      <th>443</th>\n",
              "      <td>데워만먹는고등어구이부먹찍먹간장소스</td>\n",
              "      <td>[데워만, 먹는, 고등어, 구, 이부, 먹, 찍, 먹, 간장, 소스]</td>\n",
              "    </tr>\n",
              "    <tr>\n",
              "      <th>4447</th>\n",
              "      <td>컬러팝 데일리 인식표</td>\n",
              "      <td>[컬러, 팝, 데, 일리, 인식표]</td>\n",
              "    </tr>\n",
              "    <tr>\n",
              "      <th>3479</th>\n",
              "      <td>몬스테라 아단소니 세라믹 행잉화분세트</td>\n",
              "      <td>[몬스테라, 아단, 소니, 세라믹, 행잉, 화분, 세트]</td>\n",
              "    </tr>\n",
              "    <tr>\n",
              "      <th>...</th>\n",
              "      <td>...</td>\n",
              "      <td>...</td>\n",
              "    </tr>\n",
              "    <tr>\n",
              "      <th>3772</th>\n",
              "      <td>연애 버킷리스트 커플생일기념일</td>\n",
              "      <td>[연애, 버킷리스트, 커플]</td>\n",
              "    </tr>\n",
              "    <tr>\n",
              "      <th>5191</th>\n",
              "      <td>뽑기모양추가달고나 스마트톡</td>\n",
              "      <td>[뽑기, 모양, 추가, 달고나, 스마트, 톡]</td>\n",
              "    </tr>\n",
              "    <tr>\n",
              "      <th>5226</th>\n",
              "      <td>할인루로하 에어팟 케이스</td>\n",
              "      <td>[루로, 에어팟, 케이스]</td>\n",
              "    </tr>\n",
              "    <tr>\n",
              "      <th>5390</th>\n",
              "      <td>슬림 주차번호판 자동차선물</td>\n",
              "      <td>[슬림, 주, 차번호판, 자동차]</td>\n",
              "    </tr>\n",
              "    <tr>\n",
              "      <th>860</th>\n",
              "      <td>생활한복 여름용 허리치마 그린</td>\n",
              "      <td>[생활, 한복, 여름, 용, 허리, 치마, 그린]</td>\n",
              "    </tr>\n",
              "  </tbody>\n",
              "</table>\n",
              "<p>4922 rows × 2 columns</p>\n",
              "</div>"
            ],
            "text/plain": [
              "                            name                                tokenized\n",
              "2716                 은귀걸이 나비 귀걸이                           [귀걸이, 나비, 귀걸이]\n",
              "5326  태명넣어 만든 임신 초음파앨범꾸미기 주수 스티커  [태명, 넣어, 만든, 임신, 초음파, 앨범, 꾸미기, 주수, 스티커]\n",
              "443           데워만먹는고등어구이부먹찍먹간장소스   [데워만, 먹는, 고등어, 구, 이부, 먹, 찍, 먹, 간장, 소스]\n",
              "4447                 컬러팝 데일리 인식표                      [컬러, 팝, 데, 일리, 인식표]\n",
              "3479        몬스테라 아단소니 세라믹 행잉화분세트          [몬스테라, 아단, 소니, 세라믹, 행잉, 화분, 세트]\n",
              "...                          ...                                      ...\n",
              "3772            연애 버킷리스트 커플생일기념일                          [연애, 버킷리스트, 커플]\n",
              "5191              뽑기모양추가달고나 스마트톡                [뽑기, 모양, 추가, 달고나, 스마트, 톡]\n",
              "5226               할인루로하 에어팟 케이스                           [루로, 에어팟, 케이스]\n",
              "5390              슬림 주차번호판 자동차선물                       [슬림, 주, 차번호판, 자동차]\n",
              "860             생활한복 여름용 허리치마 그린              [생활, 한복, 여름, 용, 허리, 치마, 그린]\n",
              "\n",
              "[4922 rows x 2 columns]"
            ]
          },
          "metadata": {},
          "execution_count": 26
        }
      ]
    },
    {
      "cell_type": "code",
      "metadata": {
        "id": "66bI6_hkpZor"
      },
      "source": [
        "product_test"
      ],
      "execution_count": null,
      "outputs": []
    },
    {
      "cell_type": "code",
      "metadata": {
        "id": "EfNUbbEJpbSu"
      },
      "source": [
        "product_train = product_train['tokenized'].values\n",
        "product_test = product_test['tokenized'].values"
      ],
      "execution_count": 28,
      "outputs": []
    },
    {
      "cell_type": "code",
      "metadata": {
        "id": "YXBssgr6pdK1"
      },
      "source": [
        "print(product_train)"
      ],
      "execution_count": null,
      "outputs": []
    },
    {
      "cell_type": "code",
      "metadata": {
        "id": "nWLpRuEBpeau"
      },
      "source": [
        "import csv \n",
        "# vocab_size = 42019\n",
        "# X_train = []\n",
        "path = '/content/category_train.csv'\n",
        "with open(path, 'w') as f:\n",
        "    writer = csv.writer(f)\n",
        "    writer.writerows(product_train)"
      ],
      "execution_count": 30,
      "outputs": []
    },
    {
      "cell_type": "code",
      "metadata": {
        "id": "zv1jFrMBpfrY"
      },
      "source": [
        "print(len(product_train))\n",
        "print(len(product_test))"
      ],
      "execution_count": null,
      "outputs": []
    },
    {
      "cell_type": "code",
      "metadata": {
        "id": "jYZrP9l8pgs0"
      },
      "source": [
        "from tensorflow.keras.preprocessing.text import Tokenizer\n",
        "from tensorflow.keras.preprocessing.sequence import pad_sequences"
      ],
      "execution_count": 32,
      "outputs": []
    },
    {
      "cell_type": "code",
      "metadata": {
        "id": "K_ShWprJpi6C"
      },
      "source": [
        "tokenizer = Tokenizer()\n",
        "tokenizer.fit_on_texts(product_train)"
      ],
      "execution_count": 33,
      "outputs": []
    },
    {
      "cell_type": "code",
      "metadata": {
        "id": "Hd3XWVDapkfN"
      },
      "source": [
        "print(product_train)"
      ],
      "execution_count": null,
      "outputs": []
    },
    {
      "cell_type": "code",
      "metadata": {
        "id": "-yisI1uwpnKf"
      },
      "source": [
        "print(tokenizer.word_index)"
      ],
      "execution_count": null,
      "outputs": []
    },
    {
      "cell_type": "code",
      "metadata": {
        "id": "XXZR8GlVpoXo"
      },
      "source": [
        "total_count = len(tokenizer.word_index)"
      ],
      "execution_count": 36,
      "outputs": []
    },
    {
      "cell_type": "code",
      "metadata": {
        "id": "n8zyG-2Ypqez"
      },
      "source": [
        "print(total_count)"
      ],
      "execution_count": null,
      "outputs": []
    },
    {
      "cell_type": "code",
      "metadata": {
        "id": "LlI78Ewuprjv"
      },
      "source": [
        "print('리뷰의 최대 길이 :',max(len(l) for l in product_train))\n",
        "print('리뷰의 평균 길이 :',sum(map(len, product_train))/len(product_train))\n",
        "plt.hist([len(s) for s in product_train], bins=50)\n",
        "plt.xlabel('length of samples')\n",
        "plt.ylabel('number of samples')\n",
        "plt.show()"
      ],
      "execution_count": null,
      "outputs": []
    },
    {
      "cell_type": "code",
      "metadata": {
        "id": "JuwIPih1psf5"
      },
      "source": [
        "def below_threshold_len(max_len, nested_list):\n",
        "  cnt = 0\n",
        "  for s in nested_list:\n",
        "    if(len(s) <= max_len):\n",
        "        cnt = cnt + 1\n",
        "  print('전체 샘플 중 길이가 %s 이하인 샘플의 비율: %s'%(max_len, (cnt / len(nested_list))*100))"
      ],
      "execution_count": 39,
      "outputs": []
    },
    {
      "cell_type": "code",
      "metadata": {
        "id": "tCPShodmptzG"
      },
      "source": [
        "max_len = 15\n",
        "below_threshold_len(max_len, product_train)"
      ],
      "execution_count": null,
      "outputs": []
    },
    {
      "cell_type": "code",
      "metadata": {
        "id": "eM10VUXGpurk"
      },
      "source": [
        "print(len(product_train))"
      ],
      "execution_count": null,
      "outputs": []
    },
    {
      "cell_type": "code",
      "metadata": {
        "id": "fwpqZkT4p1Et"
      },
      "source": [
        "print(total_count)"
      ],
      "execution_count": null,
      "outputs": []
    },
    {
      "cell_type": "code",
      "metadata": {
        "id": "-nGkg4B3p2LN"
      },
      "source": [
        "from tensorflow.keras.preprocessing.text import Tokenizer\n",
        "\n",
        "tokenizer = Tokenizer(total_count)\n",
        "tokenizer.fit_on_texts(product_train)\n",
        "\n",
        "product_train = tokenizer.texts_to_sequences(product_train)\n",
        "product_test = tokenizer.texts_to_sequences(product_test)"
      ],
      "execution_count": 43,
      "outputs": []
    },
    {
      "cell_type": "code",
      "metadata": {
        "id": "LLPBDvqip3-d"
      },
      "source": [
        "print(tokenizer.word_index)"
      ],
      "execution_count": null,
      "outputs": []
    },
    {
      "cell_type": "code",
      "metadata": {
        "id": "MoCrsYq2p5MM"
      },
      "source": [
        "product_train[:5]"
      ],
      "execution_count": null,
      "outputs": []
    },
    {
      "cell_type": "code",
      "metadata": {
        "id": "Uv1i4jmjp5_8"
      },
      "source": [
        "from tensorflow.keras.preprocessing.sequence import pad_sequences\n",
        "max_len = 15\n",
        "product_train = pad_sequences(product_train, maxlen=max_len)\n",
        "product_test = pad_sequences(product_test, maxlen=max_len)"
      ],
      "execution_count": 46,
      "outputs": []
    },
    {
      "cell_type": "code",
      "metadata": {
        "id": "iPVzoiQxp8NW"
      },
      "source": [
        "from tensorflow.keras.models import Sequential\n",
        "from tensorflow.keras.layers import Embedding, Dense, LSTM"
      ],
      "execution_count": 47,
      "outputs": []
    },
    {
      "cell_type": "code",
      "metadata": {
        "id": "7n-1JXVOp9Tq"
      },
      "source": [
        "print(len(product_test))\n",
        "print(len(y_test))"
      ],
      "execution_count": null,
      "outputs": []
    },
    {
      "cell_type": "code",
      "metadata": {
        "id": "3KLD1H8xp-ob"
      },
      "source": [
        "print(product_test[1])\n",
        "print(y_test[1])"
      ],
      "execution_count": null,
      "outputs": []
    },
    {
      "cell_type": "code",
      "metadata": {
        "id": "SFnNpLD7qU_E"
      },
      "source": [
        "print(len(product_train[0]))\n",
        "print(len(product_test[0]))\n",
        "\n",
        "print(len(y_test[0]))\n",
        "print(len(y_train[0]))\n"
      ],
      "execution_count": null,
      "outputs": []
    },
    {
      "cell_type": "code",
      "metadata": {
        "id": "RxmHu2msqePs"
      },
      "source": [
        "y_train.shape"
      ],
      "execution_count": null,
      "outputs": []
    },
    {
      "cell_type": "code",
      "metadata": {
        "id": "zaUV0XReqgD_"
      },
      "source": [
        "y_test.shape"
      ],
      "execution_count": null,
      "outputs": []
    },
    {
      "cell_type": "code",
      "metadata": {
        "id": "raGiEGJAp_rO"
      },
      "source": [
        "import tensorflow as tf\n",
        "from tensorflow.keras.callbacks import EarlyStopping, ModelCheckpoint"
      ],
      "execution_count": 53,
      "outputs": []
    },
    {
      "cell_type": "code",
      "metadata": {
        "id": "iBA371gGqCq1"
      },
      "source": [
        "es = EarlyStopping(monitor='val_loss', mode='min', verbose=1, patience=4)\n",
        "mc = ModelCheckpoint('category_best_model.h5', monitor='val_acc', mode='max', verbose=1, save_best_only=True)"
      ],
      "execution_count": 54,
      "outputs": []
    },
    {
      "cell_type": "code",
      "metadata": {
        "id": "MqiImlHlqDo8"
      },
      "source": [
        "model = Sequential()\n",
        "model.add(Embedding(25000, 128))\n",
        "model.add(LSTM(64))\n",
        "model.add(Dense(7, activation='softmax'))\n",
        "\n",
        "model.compile(loss='categorical_crossentropy', optimizer='adam', metrics=['acc'])\n",
        "model.fit(product_train, y_train, callbacks=[es, mc], validation_data=(product_test, y_test), batch_size=32, epochs=60)"
      ],
      "execution_count": null,
      "outputs": []
    },
    {
      "cell_type": "code",
      "metadata": {
        "id": "jFC3UL29q7mr"
      },
      "source": [
        "category_dict = {0: '먹거리', 1: '패션', 2: '잡화', 3: '쥬얼리', 4: '인테리어 소품', 5: '생활', 6: '기타'}"
      ],
      "execution_count": 56,
      "outputs": []
    },
    {
      "cell_type": "code",
      "metadata": {
        "id": "eRDg1s0YqEjv"
      },
      "source": [
        "def product_predict(product):\n",
        "    product = okt.morphs(product)\n",
        "    product = [word for word in product if not word in stopwords]\n",
        "    print(product)\n",
        "    encoded = tokenizer.texts_to_sequences([product])\n",
        "    print(encoded)\n",
        "    pad_new = pad_sequences(encoded, maxlen=max_len)\n",
        "    print(pad_new)\n",
        "    score = (model.predict(pad_new)).astype(float)\n",
        "    print(score)\n",
        "    print(category_dict[score.argmax()] if score.max() > 0.5 else category_dict[28])"
      ],
      "execution_count": 57,
      "outputs": []
    },
    {
      "cell_type": "code",
      "metadata": {
        "id": "enJUyTXfrL5L"
      },
      "source": [
        "product_predict('맛있는 마카롱')"
      ],
      "execution_count": null,
      "outputs": []
    },
    {
      "cell_type": "code",
      "metadata": {
        "id": "hQ8NBtUOrMve"
      },
      "source": [
        "product_predict('녹차비누유기농 그린티솝')"
      ],
      "execution_count": null,
      "outputs": []
    },
    {
      "cell_type": "code",
      "metadata": {
        "id": "vbeEKL0erPfD"
      },
      "source": [
        "product_predict('달 무드등')"
      ],
      "execution_count": null,
      "outputs": []
    },
    {
      "cell_type": "code",
      "metadata": {
        "id": "jCCQwHPIyo4_"
      },
      "source": [
        ""
      ],
      "execution_count": 60,
      "outputs": []
    }
  ]
}