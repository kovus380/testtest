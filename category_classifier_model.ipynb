{
  "nbformat": 4,
  "nbformat_minor": 0,
  "metadata": {
    "colab": {
      "name": "category_classifier_model.ipynb",
      "provenance": [],
      "authorship_tag": "ABX9TyN/pGX1t07ryuKOqtcQHEI7",
      "include_colab_link": true
    },
    "kernelspec": {
      "name": "python3",
      "display_name": "Python 3"
    },
    "language_info": {
      "name": "python"
    }
  },
  "cells": [
    {
      "cell_type": "markdown",
      "metadata": {
        "id": "view-in-github",
        "colab_type": "text"
      },
      "source": [
        "<a href=\"https://colab.research.google.com/github/kovus380/testtest/blob/master/category_classifier_model.ipynb\" target=\"_parent\"><img src=\"https://colab.research.google.com/assets/colab-badge.svg\" alt=\"Open In Colab\"/></a>"
      ]
    },
    {
      "cell_type": "code",
      "metadata": {
        "id": "TU-jJQGaUIie"
      },
      "source": [
        "!apt-get update\n",
        "!apt-get install g++ openjdk-8-jdk \n",
        "!pip install konlpy"
      ],
      "execution_count": null,
      "outputs": []
    },
    {
      "cell_type": "code",
      "metadata": {
        "id": "kZ5AQvWuUKdo"
      },
      "source": [
        "import pickle\n",
        "with open('/content/original_product_data.pkl', 'rb') as fr:\n",
        "    data = pickle.load(fr)\n",
        "print(data)"
      ],
      "execution_count": null,
      "outputs": []
    },
    {
      "cell_type": "code",
      "metadata": {
        "id": "PPuYWc69VKu_"
      },
      "source": [
        "category_label = [0, 0, 0, 1, 1, 1, 3, 1, 1, 1, 5, 3, 3, 3, 3, 6, 4, 4, 4, 4, 5, 6, 2, 2, 2, 6, 2, 2 ]"
      ],
      "execution_count": 5,
      "outputs": []
    },
    {
      "cell_type": "code",
      "metadata": {
        "id": "4yjfeWprYKdK"
      },
      "source": [
        "print(len(category_label))"
      ],
      "execution_count": null,
      "outputs": []
    },
    {
      "cell_type": "code",
      "metadata": {
        "id": "oumPjrJEcMa6"
      },
      "source": [
        "data"
      ],
      "execution_count": null,
      "outputs": []
    },
    {
      "cell_type": "code",
      "metadata": {
        "id": "ZTwngrKldE5R"
      },
      "source": [
        "import numpy as np\n",
        "for idx, value in enumerate(category_label):\n",
        "    data['label'] = np.select([data.label == idx], [value], data.label) "
      ],
      "execution_count": 8,
      "outputs": []
    },
    {
      "cell_type": "code",
      "metadata": {
        "id": "IIPL2rZ7Uyf9"
      },
      "source": [
        "data[1555:5000]"
      ],
      "execution_count": null,
      "outputs": []
    },
    {
      "cell_type": "code",
      "metadata": {
        "id": "W_JhZEGZU-nF"
      },
      "source": [
        "data"
      ],
      "execution_count": null,
      "outputs": []
    },
    {
      "cell_type": "code",
      "metadata": {
        "id": "QeKte_xBoqjX"
      },
      "source": [
        "data = data.loc[:, [\"name\", \"label\"]]"
      ],
      "execution_count": 11,
      "outputs": []
    },
    {
      "cell_type": "code",
      "metadata": {
        "id": "qdlMSrE2o73-"
      },
      "source": [
        "data"
      ],
      "execution_count": null,
      "outputs": []
    },
    {
      "cell_type": "code",
      "metadata": {
        "id": "t9sd-uu-o8ZY"
      },
      "source": [
        "data['name'] = data['name'].str.replace(\"[^ㄱ-ㅎㅏ-ㅣ가-힣 ]\",\"\") # 정규 표현식 수행\n",
        "data['name'].replace('', np.nan, inplace=True) # 공백은 Null 값으로 변경"
      ],
      "execution_count": 13,
      "outputs": []
    },
    {
      "cell_type": "code",
      "metadata": {
        "id": "nGT35jmco-7r"
      },
      "source": [
        "data"
      ],
      "execution_count": null,
      "outputs": []
    },
    {
      "cell_type": "code",
      "metadata": {
        "id": "Czb7pXhfpCcS"
      },
      "source": [
        "print(len(data))"
      ],
      "execution_count": null,
      "outputs": []
    },
    {
      "cell_type": "code",
      "metadata": {
        "id": "rPakWJfWpDu6"
      },
      "source": [
        "data.isnull().sum()"
      ],
      "execution_count": null,
      "outputs": []
    },
    {
      "cell_type": "code",
      "metadata": {
        "id": "hisaVAcxpEzR"
      },
      "source": [
        "data.dropna(how='any')"
      ],
      "execution_count": null,
      "outputs": []
    },
    {
      "cell_type": "code",
      "metadata": {
        "id": "zLFV-cuypHYG"
      },
      "source": [
        "from sklearn.model_selection import train_test_split\n",
        "from tensorflow.keras.utils import to_categorical\n",
        "import pandas as pd \n",
        "\n",
        "# split하면서 shuffle 적용\n",
        "product_train, product_test, y_train, y_test = train_test_split(data['name'], data['label'], test_size=0.2, random_state = 42)\n",
        "\n",
        "# 원핫벡터로 만들어줍시다! (num_classes로 카테고리 수 명시 가능)\n",
        "y_train = to_categorical(y_train)\n",
        "y_test = to_categorical(y_test)\n",
        "\n",
        "product_train = pd.DataFrame(product_train)\n",
        "product_test = pd.DataFrame(product_test)"
      ],
      "execution_count": 18,
      "outputs": []
    },
    {
      "cell_type": "code",
      "metadata": {
        "id": "NOz3q-svpLdc"
      },
      "source": [
        "product_train"
      ],
      "execution_count": null,
      "outputs": []
    },
    {
      "cell_type": "code",
      "metadata": {
        "id": "Cvg-U5wppNGh"
      },
      "source": [
        "print(len(y_train))\n",
        "print(len(y_test))"
      ],
      "execution_count": null,
      "outputs": []
    },
    {
      "cell_type": "code",
      "metadata": {
        "id": "uVJaU9e1pPr8"
      },
      "source": [
        "stopwords = ['도', '는', '다', '의', '가', '이', '은', '한', '에', '하', '고', '을', '를', '인', '듯', '과', '와', '네', '들', '듯', '지', '임', '게', '인기', '짱', '강력', '추천', '선물', '특가', '할인', '세일', '생일', '기념일']"
      ],
      "execution_count": 21,
      "outputs": []
    },
    {
      "cell_type": "code",
      "metadata": {
        "id": "KjA0QTO1pRPw"
      },
      "source": [
        "product_train = product_train.astype(\n",
        "    {'name': str}\n",
        ")\n",
        "\n",
        "product_test = product_test.astype(\n",
        "    {'name': str}\n",
        ")"
      ],
      "execution_count": 22,
      "outputs": []
    },
    {
      "cell_type": "code",
      "metadata": {
        "id": "Sn5FXEKYpACY"
      },
      "source": [
        "from konlpy.tag import Okt\n",
        "import matplotlib.pyplot as plt"
      ],
      "execution_count": 23,
      "outputs": []
    },
    {
      "cell_type": "code",
      "metadata": {
        "id": "uNTXlMHypBVN"
      },
      "source": [
        "okt = Okt()"
      ],
      "execution_count": 24,
      "outputs": []
    },
    {
      "cell_type": "code",
      "metadata": {
        "id": "yS6naiP1pSI-"
      },
      "source": [
        "product_train['tokenized'] = product_train['name'].apply(okt.morphs)\n",
        "product_train['tokenized'] = product_train['tokenized'].apply(lambda x: [item for item in x if item not in stopwords])\n",
        "\n",
        "product_test['tokenized'] = product_test['name'].apply(okt.morphs)\n",
        "product_test['tokenized'] = product_test['tokenized'].apply(lambda x: [item for item in x if item not in stopwords])"
      ],
      "execution_count": 25,
      "outputs": []
    },
    {
      "cell_type": "code",
      "metadata": {
        "id": "KXBAGRSipTGs"
      },
      "source": [
        "product_train"
      ],
      "execution_count": null,
      "outputs": []
    },
    {
      "cell_type": "code",
      "metadata": {
        "id": "66bI6_hkpZor"
      },
      "source": [
        "product_test"
      ],
      "execution_count": null,
      "outputs": []
    },
    {
      "cell_type": "code",
      "metadata": {
        "id": "EfNUbbEJpbSu"
      },
      "source": [
        "product_train = product_train['tokenized'].values\n",
        "product_test = product_test['tokenized'].values"
      ],
      "execution_count": 28,
      "outputs": []
    },
    {
      "cell_type": "code",
      "metadata": {
        "id": "YXBssgr6pdK1"
      },
      "source": [
        "print(product_train)"
      ],
      "execution_count": null,
      "outputs": []
    },
    {
      "cell_type": "code",
      "metadata": {
        "id": "nWLpRuEBpeau"
      },
      "source": [
        "import csv \n",
        "# vocab_size = 42019\n",
        "# X_train = []\n",
        "path = '/content/category_train.csv'\n",
        "with open(path, 'w') as f:\n",
        "    writer = csv.writer(f)\n",
        "    writer.writerows(product_train)"
      ],
      "execution_count": 30,
      "outputs": []
    },
    {
      "cell_type": "code",
      "metadata": {
        "id": "zv1jFrMBpfrY"
      },
      "source": [
        "print(len(product_train))\n",
        "print(len(product_test))"
      ],
      "execution_count": null,
      "outputs": []
    },
    {
      "cell_type": "code",
      "metadata": {
        "id": "jYZrP9l8pgs0"
      },
      "source": [
        "from tensorflow.keras.preprocessing.text import Tokenizer\n",
        "from tensorflow.keras.preprocessing.sequence import pad_sequences"
      ],
      "execution_count": 32,
      "outputs": []
    },
    {
      "cell_type": "code",
      "metadata": {
        "id": "K_ShWprJpi6C"
      },
      "source": [
        "tokenizer = Tokenizer()\n",
        "tokenizer.fit_on_texts(product_train)"
      ],
      "execution_count": 33,
      "outputs": []
    },
    {
      "cell_type": "code",
      "metadata": {
        "id": "Hd3XWVDapkfN"
      },
      "source": [
        "print(product_train)"
      ],
      "execution_count": null,
      "outputs": []
    },
    {
      "cell_type": "code",
      "metadata": {
        "id": "-yisI1uwpnKf"
      },
      "source": [
        "print(tokenizer.word_index)"
      ],
      "execution_count": null,
      "outputs": []
    },
    {
      "cell_type": "code",
      "metadata": {
        "id": "XXZR8GlVpoXo"
      },
      "source": [
        "total_count = len(tokenizer.word_index)"
      ],
      "execution_count": 36,
      "outputs": []
    },
    {
      "cell_type": "code",
      "metadata": {
        "id": "n8zyG-2Ypqez"
      },
      "source": [
        "print(total_count)"
      ],
      "execution_count": null,
      "outputs": []
    },
    {
      "cell_type": "code",
      "metadata": {
        "id": "LlI78Ewuprjv"
      },
      "source": [
        "print('리뷰의 최대 길이 :',max(len(l) for l in product_train))\n",
        "print('리뷰의 평균 길이 :',sum(map(len, product_train))/len(product_train))\n",
        "plt.hist([len(s) for s in product_train], bins=50)\n",
        "plt.xlabel('length of samples')\n",
        "plt.ylabel('number of samples')\n",
        "plt.show()"
      ],
      "execution_count": null,
      "outputs": []
    },
    {
      "cell_type": "code",
      "metadata": {
        "id": "JuwIPih1psf5"
      },
      "source": [
        "def below_threshold_len(max_len, nested_list):\n",
        "  cnt = 0\n",
        "  for s in nested_list:\n",
        "    if(len(s) <= max_len):\n",
        "        cnt = cnt + 1\n",
        "  print('전체 샘플 중 길이가 %s 이하인 샘플의 비율: %s'%(max_len, (cnt / len(nested_list))*100))"
      ],
      "execution_count": 39,
      "outputs": []
    },
    {
      "cell_type": "code",
      "metadata": {
        "id": "tCPShodmptzG"
      },
      "source": [
        "max_len = 15\n",
        "below_threshold_len(max_len, product_train)"
      ],
      "execution_count": null,
      "outputs": []
    },
    {
      "cell_type": "code",
      "metadata": {
        "id": "eM10VUXGpurk"
      },
      "source": [
        "print(len(product_train))"
      ],
      "execution_count": null,
      "outputs": []
    },
    {
      "cell_type": "code",
      "metadata": {
        "id": "fwpqZkT4p1Et"
      },
      "source": [
        "print(total_count)"
      ],
      "execution_count": null,
      "outputs": []
    },
    {
      "cell_type": "code",
      "metadata": {
        "id": "-nGkg4B3p2LN"
      },
      "source": [
        "from tensorflow.keras.preprocessing.text import Tokenizer\n",
        "\n",
        "tokenizer = Tokenizer(total_count)\n",
        "tokenizer.fit_on_texts(product_train)\n",
        "\n",
        "product_train = tokenizer.texts_to_sequences(product_train)\n",
        "product_test = tokenizer.texts_to_sequences(product_test)"
      ],
      "execution_count": 43,
      "outputs": []
    },
    {
      "cell_type": "code",
      "metadata": {
        "id": "LLPBDvqip3-d"
      },
      "source": [
        "print(tokenizer.word_index)"
      ],
      "execution_count": null,
      "outputs": []
    },
    {
      "cell_type": "code",
      "metadata": {
        "id": "MoCrsYq2p5MM"
      },
      "source": [
        "product_train[:5]"
      ],
      "execution_count": null,
      "outputs": []
    },
    {
      "cell_type": "code",
      "metadata": {
        "id": "Uv1i4jmjp5_8"
      },
      "source": [
        "from tensorflow.keras.preprocessing.sequence import pad_sequences\n",
        "max_len = 15\n",
        "product_train = pad_sequences(product_train, maxlen=max_len)\n",
        "product_test = pad_sequences(product_test, maxlen=max_len)"
      ],
      "execution_count": 46,
      "outputs": []
    },
    {
      "cell_type": "code",
      "metadata": {
        "id": "iPVzoiQxp8NW"
      },
      "source": [
        "from tensorflow.keras.models import Sequential\n",
        "from tensorflow.keras.layers import Embedding, Dense, LSTM"
      ],
      "execution_count": 47,
      "outputs": []
    },
    {
      "cell_type": "code",
      "metadata": {
        "id": "7n-1JXVOp9Tq"
      },
      "source": [
        "print(len(product_test))\n",
        "print(len(y_test))"
      ],
      "execution_count": null,
      "outputs": []
    },
    {
      "cell_type": "code",
      "metadata": {
        "id": "3KLD1H8xp-ob"
      },
      "source": [
        "print(product_test[1])\n",
        "print(y_test[1])"
      ],
      "execution_count": null,
      "outputs": []
    },
    {
      "cell_type": "code",
      "metadata": {
        "id": "SFnNpLD7qU_E"
      },
      "source": [
        "print(len(product_train[0]))\n",
        "print(len(product_test[0]))\n",
        "\n",
        "print(len(y_test[0]))\n",
        "print(len(y_train[0]))\n"
      ],
      "execution_count": null,
      "outputs": []
    },
    {
      "cell_type": "code",
      "metadata": {
        "id": "RxmHu2msqePs"
      },
      "source": [
        "y_train.shape"
      ],
      "execution_count": null,
      "outputs": []
    },
    {
      "cell_type": "code",
      "metadata": {
        "id": "zaUV0XReqgD_"
      },
      "source": [
        "y_test.shape"
      ],
      "execution_count": null,
      "outputs": []
    },
    {
      "cell_type": "code",
      "metadata": {
        "id": "raGiEGJAp_rO"
      },
      "source": [
        "import tensorflow as tf\n",
        "from tensorflow.keras.callbacks import EarlyStopping, ModelCheckpoint"
      ],
      "execution_count": 53,
      "outputs": []
    },
    {
      "cell_type": "code",
      "metadata": {
        "id": "iBA371gGqCq1"
      },
      "source": [
        "es = EarlyStopping(monitor='val_loss', mode='min', verbose=1, patience=4)\n",
        "mc = ModelCheckpoint('category_best_model.h5', monitor='val_acc', mode='max', verbose=1, save_best_only=True)"
      ],
      "execution_count": 54,
      "outputs": []
    },
    {
      "cell_type": "code",
      "metadata": {
        "id": "MqiImlHlqDo8"
      },
      "source": [
        "model = Sequential()\n",
        "model.add(Embedding(25000, 128))\n",
        "model.add(LSTM(64))\n",
        "model.add(Dense(7, activation='softmax'))\n",
        "\n",
        "model.compile(loss='categorical_crossentropy', optimizer='adam', metrics=['acc'])\n",
        "model.fit(product_train, y_train, callbacks=[es, mc], validation_data=(product_test, y_test), batch_size=32, epochs=60)"
      ],
      "execution_count": null,
      "outputs": []
    },
    {
      "cell_type": "code",
      "metadata": {
        "id": "jFC3UL29q7mr"
      },
      "source": [
        "category_dict = {0: '먹거리', 1: '패션', 2: '잡화', 3: '쥬얼리', 4: '인테리어 소품', 5: '생활', 6: '기타'}"
      ],
      "execution_count": 56,
      "outputs": []
    },
    {
      "cell_type": "code",
      "metadata": {
        "id": "eRDg1s0YqEjv"
      },
      "source": [
        "def product_predict(product):\n",
        "    product = okt.morphs(product)\n",
        "    product = [word for word in product if not word in stopwords]\n",
        "    print(product)\n",
        "    encoded = tokenizer.texts_to_sequences([product])\n",
        "    print(encoded)\n",
        "    pad_new = pad_sequences(encoded, maxlen=max_len)\n",
        "    print(pad_new)\n",
        "    score = (model.predict(pad_new)).astype(float)\n",
        "    print(score)\n",
        "    print(category_dict[score.argmax()] if score.max() > 0.5 else category_dict[28])"
      ],
      "execution_count": 57,
      "outputs": []
    },
    {
      "cell_type": "code",
      "metadata": {
        "id": "enJUyTXfrL5L"
      },
      "source": [
        "product_predict('맛있는 마카롱')"
      ],
      "execution_count": null,
      "outputs": []
    },
    {
      "cell_type": "code",
      "metadata": {
        "id": "hQ8NBtUOrMve"
      },
      "source": [
        "product_predict('녹차비누유기농 그린티솝')"
      ],
      "execution_count": null,
      "outputs": []
    },
    {
      "cell_type": "code",
      "metadata": {
        "id": "vbeEKL0erPfD"
      },
      "source": [
        "product_predict('달 무드등')"
      ],
      "execution_count": null,
      "outputs": []
    },
    {
      "cell_type": "code",
      "metadata": {
        "id": "jCCQwHPIyo4_"
      },
      "source": [
        ""
      ],
      "execution_count": 60,
      "outputs": []
    }
  ]
}